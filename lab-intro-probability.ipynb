{
 "cells": [
  {
   "cell_type": "code",
   "execution_count": 20,
   "id": "dd190df9-3d6d-41ff-8064-09569c12bfde",
   "metadata": {},
   "outputs": [],
   "source": [
    "from scipy.stats import geom, binom, norm, expon, poisson"
   ]
  },
  {
   "cell_type": "code",
   "execution_count": 21,
   "id": "c4b71393-2911-4daf-b41a-3b5811a32415",
   "metadata": {},
   "outputs": [],
   "source": [
    "# CHALLENGE 1."
   ]
  },
  {
   "cell_type": "code",
   "execution_count": 56,
   "id": "46b86ccb-c684-406d-b358-3fa9203d8b21",
   "metadata": {},
   "outputs": [
    {
     "name": "stdout",
     "output_type": "stream",
     "text": [
      "The probability of having seats for all passengers is: 0.8845\n"
     ]
    }
   ],
   "source": [
    "n = 460\n",
    "p = 0.97\n",
    "max = 450\n",
    "binom_dist = binom(max,n,p)\n",
    "binom.cdf(max, n, p)\n",
    "print(f\"The probability of having seats for all passengers is: {binom.cdf(max, n, p):.4f}\")\n",
    "\n"
   ]
  },
  {
   "cell_type": "code",
   "execution_count": 2,
   "id": "02053686-f4f0-46d7-8071-16c88afcbc1f",
   "metadata": {},
   "outputs": [],
   "source": [
    "# CHALLENGE 2."
   ]
  },
  {
   "cell_type": "code",
   "execution_count": 58,
   "id": "bab3120d-ed65-4734-a59e-8e204bc104db",
   "metadata": {},
   "outputs": [
    {
     "name": "stdout",
     "output_type": "stream",
     "text": [
      "The probability that the representative needs at least three attempts is: 0.49\n"
     ]
    }
   ],
   "source": [
    "p = 0.30\n",
    "geom_dist = geom(p)\n",
    "1-geom_dist.cdf(2)\n",
    "print(f\"The probability that the representative needs at least three attempts is: {1-geom_dist.cdf(2)}\")\n"
   ]
  },
  {
   "cell_type": "code",
   "execution_count": 3,
   "id": "e3968f42-905f-4b41-819a-6d3adc732627",
   "metadata": {},
   "outputs": [],
   "source": [
    "#CHALLENGE 3."
   ]
  },
  {
   "cell_type": "code",
   "execution_count": 55,
   "id": "1c8dcf1f-d14e-4991-9b57-d3a6b69ae058",
   "metadata": {},
   "outputs": [
    {
     "name": "stdout",
     "output_type": "stream",
     "text": [
      "The probability of the website server being overwhelmed is: 0.0129\n"
     ]
    }
   ],
   "source": [
    "mu = 500\n",
    "poisson_dist = poisson(mu)\n",
    "1- poisson_dist.cdf(550)\n",
    "print(f\"The probability of the website server being overwhelmed is: {1- poisson_dist.cdf(550):.4f}\")\n"
   ]
  },
  {
   "cell_type": "code",
   "execution_count": 54,
   "id": "5cf3a882-bb92-4842-986d-44b65222fe33",
   "metadata": {},
   "outputs": [
    {
     "name": "stdout",
     "output_type": "stream",
     "text": [
      "The probability of the website server being overwhelmed at some point during a day is: 0.2677\n"
     ]
    }
   ],
   "source": [
    "1-(poisson_dist.cdf(550)**24)\n",
    "print(f\"The probability of the website server being overwhelmed at some point during a day is: {1-poisson_dist.cdf(550)**24:.4f}\")\n"
   ]
  },
  {
   "cell_type": "code",
   "execution_count": 4,
   "id": "46997ae3-05d8-4450-b4a0-1529a1980a40",
   "metadata": {},
   "outputs": [],
   "source": [
    "# CHALLENGE 4."
   ]
  },
  {
   "cell_type": "code",
   "execution_count": 47,
   "id": "726273d9-3a1d-493b-a9eb-944fd683677a",
   "metadata": {},
   "outputs": [
    {
     "name": "stdout",
     "output_type": "stream",
     "text": [
      "The probability that the next customer will arrive within the next 5 minutes is: 0.3935\n"
     ]
    }
   ],
   "source": [
    "lambda_value = 1/10\n",
    "expon_dist = expon(scale = 1/lambda_value)\n",
    "expon_dist.cdf(5)\n",
    "print(f\"The probability that the next customer will arrive within the next 5 minutes is: {expon_dist.cdf(5):.4f}\")\n"
   ]
  },
  {
   "cell_type": "code",
   "execution_count": 46,
   "id": "ba57b579-c698-44c0-9f4d-16ce0090ca11",
   "metadata": {},
   "outputs": [
    {
     "name": "stdout",
     "output_type": "stream",
     "text": [
      "The probability that an employee can take a 5-minute break is: 0.6065\n"
     ]
    }
   ],
   "source": [
    "probability_no_customer = math.exp(-lambda_ * t)\n",
    "\n",
    "print(f\"The probability that an employee can take a 5-minute break is: {probability_no_customer:.4f}\")"
   ]
  },
  {
   "cell_type": "code",
   "execution_count": 5,
   "id": "4108cb1e-2e06-432c-8e82-f400990f4cb7",
   "metadata": {},
   "outputs": [],
   "source": [
    "# CHALLENGE 5."
   ]
  },
  {
   "cell_type": "markdown",
   "id": "08766199-7166-4fa8-9582-3773110b7b17",
   "metadata": {},
   "source": [
    "The weights of a certain species of birds follow a normal distribution with a mean weight of 150 grams and a standard deviation of 10 grams.\n",
    "\n",
    "If we randomly select a bird, what is the probability that its weight is between 140 and 160 grams?\n"
   ]
  },
  {
   "cell_type": "code",
   "execution_count": 62,
   "id": "b0efde8e-12b4-4540-9bdb-4ed32920fe9b",
   "metadata": {},
   "outputs": [
    {
     "name": "stdout",
     "output_type": "stream",
     "text": [
      "The probability that a bird's weight is between 140 and 160 grams is: 0.6827\n"
     ]
    }
   ],
   "source": [
    "mean = 150\n",
    "std = 10\n",
    "norm_dist = norm(loc = mean, scale = std)\n",
    "norm_dist.cdf(160)-norm_dist.cdf(140)\n",
    "print(f\"The probability that a bird's weight is between 140 and 160 grams is: {norm_dist.cdf(160)-norm_dist.cdf(140)\n",
    ":.4f}\")"
   ]
  },
  {
   "cell_type": "code",
   "execution_count": null,
   "id": "14abe134-ba48-46d1-8d93-cc0b97f09a97",
   "metadata": {},
   "outputs": [],
   "source": [
    "# CHALLENGE 6."
   ]
  },
  {
   "cell_type": "markdown",
   "id": "d5d9779c-1528-44ee-9ba5-907e030ca196",
   "metadata": {},
   "source": [
    "If the lifetime (in hours) of a certain electronic component follows an exponential distribution with a mean lifetime of 50 hours, what is the probability that the component fails within the first 30 hours?"
   ]
  },
  {
   "cell_type": "code",
   "execution_count": 73,
   "id": "96551215-971d-4de3-9021-530ba4fbdb83",
   "metadata": {},
   "outputs": [
    {
     "name": "stdout",
     "output_type": "stream",
     "text": [
      "The probability that the component fails within the first 30 hours is: 0.4512\n"
     ]
    }
   ],
   "source": [
    "lambda_value = 1/50\n",
    "expon_dist = expon(scale = 1/lambda_value)\n",
    "expon_dist.cdf(30)\n",
    "print(f\"The probability that the component fails within the first 30 hours is: {expon_dist.cdf(30):.4f}\")"
   ]
  }
 ],
 "metadata": {
  "kernelspec": {
   "display_name": "Python 3 (ipykernel)",
   "language": "python",
   "name": "python3"
  },
  "language_info": {
   "codemirror_mode": {
    "name": "ipython",
    "version": 3
   },
   "file_extension": ".py",
   "mimetype": "text/x-python",
   "name": "python",
   "nbconvert_exporter": "python",
   "pygments_lexer": "ipython3",
   "version": "3.12.4"
  }
 },
 "nbformat": 4,
 "nbformat_minor": 5
}
